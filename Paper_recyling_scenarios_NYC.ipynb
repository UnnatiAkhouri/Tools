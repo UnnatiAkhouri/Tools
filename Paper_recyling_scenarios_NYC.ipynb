{
 "cells": [
  {
   "cell_type": "markdown",
   "id": "f4190d9f-964d-4759-99bc-ac302d1ddbae",
   "metadata": {},
   "source": [
    "A jupyter notebook that will run a simulation on the paper recyling rates in NYC under varying scenarios. The model will take in past data about the paper consumption and recyling habits of the inhabitants of the 5 borougs of NYC, the capture rate, diversion rate. In addition, we will input parameters like collection frequency (daily, weekly, monthly), incentives (no,small,big) and recyling program type (local-drop off, public bins and curbside collections, None)  "
   ]
  },
  {
   "cell_type": "markdown",
   "id": "0957cbd6-c95e-4330-abc7-4dc8ba2a2a00",
   "metadata": {},
   "source": [
    "Some key things to keep in mind:\n",
    "1) Per ton cost for refuse disposal vs per ton cost of recyling\n",
    "2) Emissions associated with /ton of paper waste "
   ]
  },
  {
   "cell_type": "code",
   "execution_count": 10,
   "id": "55e0f0e0-4a21-4c17-9ca8-a0f6c4559952",
   "metadata": {},
   "outputs": [
    {
     "data": {
      "text/html": [
       "<div>\n",
       "<style scoped>\n",
       "    .dataframe tbody tr th:only-of-type {\n",
       "        vertical-align: middle;\n",
       "    }\n",
       "\n",
       "    .dataframe tbody tr th {\n",
       "        vertical-align: top;\n",
       "    }\n",
       "\n",
       "    .dataframe thead th {\n",
       "        text-align: right;\n",
       "    }\n",
       "</style>\n",
       "<table border=\"1\" class=\"dataframe\">\n",
       "  <thead>\n",
       "    <tr style=\"text-align: right;\">\n",
       "      <th></th>\n",
       "      <th>Location</th>\n",
       "      <th>Recyling program</th>\n",
       "      <th>Collection Frequency</th>\n",
       "      <th>Population density</th>\n",
       "      <th>Capture rate</th>\n",
       "      <th>Diversion rate</th>\n",
       "      <th>Total tons used</th>\n",
       "      <th>Incentives</th>\n",
       "    </tr>\n",
       "  </thead>\n",
       "  <tbody>\n",
       "    <tr>\n",
       "      <th>0</th>\n",
       "      <td>a</td>\n",
       "      <td>R1</td>\n",
       "      <td>A</td>\n",
       "      <td>123</td>\n",
       "      <td>23</td>\n",
       "      <td>12</td>\n",
       "      <td>11112</td>\n",
       "      <td>small</td>\n",
       "    </tr>\n",
       "    <tr>\n",
       "      <th>1</th>\n",
       "      <td>b</td>\n",
       "      <td>R2</td>\n",
       "      <td>B</td>\n",
       "      <td>234</td>\n",
       "      <td>45</td>\n",
       "      <td>45</td>\n",
       "      <td>23345</td>\n",
       "      <td>large</td>\n",
       "    </tr>\n",
       "    <tr>\n",
       "      <th>2</th>\n",
       "      <td>c</td>\n",
       "      <td>R3</td>\n",
       "      <td>C</td>\n",
       "      <td>345</td>\n",
       "      <td>56</td>\n",
       "      <td>12</td>\n",
       "      <td>234</td>\n",
       "      <td>none</td>\n",
       "    </tr>\n",
       "  </tbody>\n",
       "</table>\n",
       "</div>"
      ],
      "text/plain": [
       "  Location Recyling program Collection Frequency  Population density  \\\n",
       "0        a               R1                    A                 123   \n",
       "1        b               R2                    B                 234   \n",
       "2        c               R3                    C                 345   \n",
       "\n",
       "   Capture rate  Diversion rate  Total tons used Incentives  \n",
       "0            23              12            11112      small  \n",
       "1            45              45            23345      large  \n",
       "2            56              12              234       none  "
      ]
     },
     "execution_count": 10,
     "metadata": {},
     "output_type": "execute_result"
    }
   ],
   "source": [
    "import pandas as pd\n",
    "df = pd.DataFrame({\"Location\":[\"a\",\"b\",\"c\"],\"Recyling program\": [\"R1\",\"R2\",\"R3\"],\"Collection Frequency\":[\"A\",\"B\",\"C\"],\"Population density\":[123,234,345],\"Capture rate\":[23,45,56],\"Diversion rate\":[12,45,12],\"Total tons used\":[11112,23345,234],\"Incentives\":[\"small\",\"large\",\"none\"]})\n",
    "df\n",
    "#Recyling programs: R1:Curbside, R1:Dropoff, R3:None\n",
    "#Incenticves: 0:None, 1:Small, 100:Large"
   ]
  },
  {
   "cell_type": "code",
   "execution_count": 19,
   "id": "a73af486-f2b4-4f15-9778-734aa7387b0b",
   "metadata": {},
   "outputs": [],
   "source": [
    "import pandas as pd\n",
    "import numpy as np\n",
    "import matplotlib.pyplot as plt\n",
    "import scipy as sp\n",
    "from sklearn.linear_model import LogisticRegression , LinearRegression\n",
    "from sklearn.neighbors import KNeighborsRegressor, KNeighborsClassifier\n",
    "from sklearn.preprocessing import OneHotEncoder, LabelEncoder, StandardScaler,MinMaxScaler\n",
    "from sklearn.model_selection import train_test_split"
   ]
  },
  {
   "cell_type": "code",
   "execution_count": null,
   "id": "59f680e2-f6a4-45a7-b433-23031f6e57d9",
   "metadata": {},
   "outputs": [],
   "source": []
  }
 ],
 "metadata": {
  "kernelspec": {
   "display_name": "Python 3 (ipykernel)",
   "language": "python",
   "name": "python3"
  },
  "language_info": {
   "codemirror_mode": {
    "name": "ipython",
    "version": 3
   },
   "file_extension": ".py",
   "mimetype": "text/x-python",
   "name": "python",
   "nbconvert_exporter": "python",
   "pygments_lexer": "ipython3",
   "version": "3.11.8"
  }
 },
 "nbformat": 4,
 "nbformat_minor": 5
}
